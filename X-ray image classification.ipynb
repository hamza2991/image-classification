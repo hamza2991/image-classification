{
 "cells": [
  {
   "cell_type": "code",
   "execution_count": null,
   "id": "11b0dbc1-968b-4e14-b7e4-b2088c28ade6",
   "metadata": {},
   "outputs": [],
   "source": [
    "import matplotlib.pyplot as plt #For Visualization\n",
    "import numpy as np              #For handling arrays\n",
    "import pandas as pd             # For handling data\n",
    "#Define Directories for train, test & Validation Set\n",
    "train_path = '/content/dataset/cnn/pneumonia_revamped/train'\n",
    "test_path = '/content/dataset/cnn/pneumonia_revamped/test'\n",
    "valid_path = '/content/dataset/cnn/pneumonia_revamped/val'\n",
    "#Define some often used standard parameters\n",
    "#The batch refers to the number of training examples utilized in one #iteration\n",
    "batch_size = 16 \n",
    "#The dimension of the images we are going to define is 500x500 img_height = 500\n",
    "img_width = 500\n",
    "#The dimension size of 500 or more than 500 with batch size greater than 16 may result in a crash as the RAM gets completely used in such cases. A lower dimension size with greater batch size is one of the options to try."
   ]
  },
  {
   "cell_type": "code",
   "execution_count": null,
   "id": "a63ad25b-15d3-478d-85fa-5e7e41d0a58b",
   "metadata": {},
   "outputs": [],
   "source": [
    "from tensorflow.keras.preprocessing.image import ImageDataGenerator\n",
    "# Create Image Data Generator for Train Set\n",
    "image_gen = ImageDataGenerator(\n",
    "                                  rescale = 1./255,\n",
    "                                  shear_range = 0.2,\n",
    "                                  zoom_range = 0.2,\n",
    "                                  horizontal_flip = True,          \n",
    "                               )\n",
    "# Create Image Data Generator for Test/Validation Set\n",
    "test_data_gen = ImageDataGenerator(rescale = 1./255)"
   ]
  },
  {
   "cell_type": "code",
   "execution_count": null,
   "id": "ac1cac88-669b-48ab-9f8f-4d0ff49a653d",
   "metadata": {},
   "outputs": [],
   "source": [
    "train = image_gen.flow_from_directory(\n",
    "      train_path,\n",
    "      target_size=(img_height, img_width),\n",
    "      color_mode='grayscale',\n",
    "      class_mode='binary',\n",
    "      batch_size=batch_size\n",
    "      )\n",
    "test = test_data_gen.flow_from_directory(\n",
    "      test_path,\n",
    "      target_size=(img_height, img_width),\n",
    "      color_mode='grayscale',\n",
    "      shuffle=False, \n",
    "#setting shuffle as False just so we can later compare it with predicted values without having indexing problem \n",
    "      class_mode='binary',\n",
    "      batch_size=batch_size\n",
    "      )\n",
    "valid = test_data_gen.flow_from_directory(\n",
    "      valid_path,\n",
    "      target_size=(img_height, img_width),\n",
    "      color_mode='grayscale',\n",
    "      class_mode='binary', \n",
    "      batch_size=batch_size\n",
    "      )"
   ]
  },
  {
   "cell_type": "code",
   "execution_count": null,
   "id": "9327603c-5f1c-4c8e-b745-752c239fe80c",
   "metadata": {},
   "outputs": [],
   "source": [
    "plt.figure(figsize=(12, 12))\n",
    "for i in range(0, 10):\n",
    "    plt.subplot(2, 5, i+1)\n",
    "    for X_batch, Y_batch in train:\n",
    "        image = X_batch[0]        \n",
    "        dic = {0:’NORMAL’, 1:’PNEUMONIA’}\n",
    "        plt.title(dic.get(Y_batch[0]))\n",
    "        plt.axis(’off’)\n",
    "        plt.imshow(np.squeeze(image),cmap=’gray’,interpolation=’nearest’)\n",
    "        break\n",
    "plt.tight_layout()\n",
    "plt.show()"
   ]
  },
  {
   "cell_type": "code",
   "execution_count": null,
   "id": "51686fff-813d-4f05-978f-bb3aa3dc1ff4",
   "metadata": {},
   "outputs": [],
   "source": [
    "from tensorflow.keras.models import Sequential\n",
    "from tensorflow.keras.layers import Dense,Conv2D,Flatten,MaxPooling2D\n",
    "from tensorflow.keras.callbacks import EarlyStopping,ReduceLROnPlateau"
   ]
  },
  {
   "cell_type": "code",
   "execution_count": null,
   "id": "0886986d-81a0-4d2c-a75c-0b9663eaa87f",
   "metadata": {},
   "outputs": [],
   "source": [
    "cnn = Sequential()\n",
    "cnn.add(Conv2D(32, (3, 3), activation=\"relu\", input_shape=(img_width, img_height, 1)))\n",
    "cnn.add(MaxPooling2D(pool_size = (2, 2)))\n",
    "cnn.add(Conv2D(32, (3, 3), activation=\"relu\", input_shape=(img_width, img_height, 1)))\n",
    "cnn.add(MaxPooling2D(pool_size = (2, 2)))\n",
    "cnn.add(Conv2D(32, (3, 3), activation=\"relu\", input_shape=(img_width, img_height, 1)))\n",
    "cnn.add(MaxPooling2D(pool_size = (2, 2)))\n",
    "cnn.add(Conv2D(64, (3, 3), activation=\"relu\", input_shape=(img_width, img_height, 1)))\n",
    "cnn.add(MaxPooling2D(pool_size = (2, 2)))\n",
    "cnn.add(Conv2D(64, (3, 3), activation=\"relu\", input_shape=(img_width, img_height, 1)))\n",
    "cnn.add(MaxPooling2D(pool_size = (2, 2)))\n",
    "cnn.add(Flatten())\n",
    "cnn.add(Dense(activation = 'relu', units = 128))\n",
    "cnn.add(Dense(activation = 'relu', units = 64))\n",
    "cnn.add(Dense(activation = 'sigmoid', units = 1))\n",
    "cnn.compile(optimizer = 'adam', loss = 'binary_crossentropy', metrics = ['accuracy'])\n",
    "\n",
    "\n",
    "cnn.fit(train,epochs=25, validation_data=valid, class_weight=cw, callbacks=callbacks_list)\n"
   ]
  },
  {
   "cell_type": "code",
   "execution_count": null,
   "id": "94356817-8665-4b13-a9b1-09a0676472cd",
   "metadata": {},
   "outputs": [],
   "source": [
    "preds = cnn.predict(test,verbose=1)"
   ]
  },
  {
   "cell_type": "code",
   "execution_count": null,
   "id": "83a67876-eee6-49b8-8874-caeeb13a51ea",
   "metadata": {},
   "outputs": [],
   "source": []
  }
 ],
 "metadata": {
  "kernelspec": {
   "display_name": "Python 3 (ipykernel)",
   "language": "python",
   "name": "python3"
  },
  "language_info": {
   "codemirror_mode": {
    "name": "ipython",
    "version": 3
   },
   "file_extension": ".py",
   "mimetype": "text/x-python",
   "name": "python",
   "nbconvert_exporter": "python",
   "pygments_lexer": "ipython3",
   "version": "3.9.12"
  }
 },
 "nbformat": 4,
 "nbformat_minor": 5
}
